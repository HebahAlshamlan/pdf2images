{
  "nbformat": 4,
  "nbformat_minor": 0,
  "metadata": {
    "colab": {
      "name": "DataPrepareing.ipynb",
      "provenance": [],
      "authorship_tag": "ABX9TyN7eP0dX51LDn8qF2N7lD6G",
      "include_colab_link": true
    },
    "kernelspec": {
      "name": "python3",
      "display_name": "Python 3"
    },
    "accelerator": "GPU"
  },
  "cells": [
    {
      "cell_type": "markdown",
      "metadata": {
        "id": "view-in-github",
        "colab_type": "text"
      },
      "source": [
        "<a href=\"https://colab.research.google.com/github/HebahAlshamlan/pdf2images/blob/main/DataPrepareing.ipynb\" target=\"_parent\"><img src=\"https://colab.research.google.com/assets/colab-badge.svg\" alt=\"Open In Colab\"/></a>"
      ]
    },
    {
      "cell_type": "markdown",
      "metadata": {
        "id": "vrmHunJLz9cP"
      },
      "source": [
        "# env setup"
      ]
    },
    {
      "cell_type": "code",
      "metadata": {
        "id": "FwKNI5wDYZAP",
        "outputId": "a95fb522-1daf-4bf8-c216-5b68e6135433",
        "colab": {
          "base_uri": "https://localhost:8080/",
          "height": 207
        }
      },
      "source": [
        "pip install PyPDF2"
      ],
      "execution_count": 1,
      "outputs": [
        {
          "output_type": "stream",
          "text": [
            "Collecting PyPDF2\n",
            "\u001b[?25l  Downloading https://files.pythonhosted.org/packages/b4/01/68fcc0d43daf4c6bdbc6b33cc3f77bda531c86b174cac56ef0ffdb96faab/PyPDF2-1.26.0.tar.gz (77kB)\n",
            "\r\u001b[K     |████▎                           | 10kB 14.9MB/s eta 0:00:01\r\u001b[K     |████████▌                       | 20kB 3.0MB/s eta 0:00:01\r\u001b[K     |████████████▊                   | 30kB 3.9MB/s eta 0:00:01\r\u001b[K     |█████████████████               | 40kB 4.2MB/s eta 0:00:01\r\u001b[K     |█████████████████████▏          | 51kB 3.5MB/s eta 0:00:01\r\u001b[K     |█████████████████████████▍      | 61kB 3.9MB/s eta 0:00:01\r\u001b[K     |█████████████████████████████▋  | 71kB 4.3MB/s eta 0:00:01\r\u001b[K     |████████████████████████████████| 81kB 3.5MB/s \n",
            "\u001b[?25hBuilding wheels for collected packages: PyPDF2\n",
            "  Building wheel for PyPDF2 (setup.py) ... \u001b[?25l\u001b[?25hdone\n",
            "  Created wheel for PyPDF2: filename=PyPDF2-1.26.0-cp36-none-any.whl size=61086 sha256=ce4b59dc750ff37f8643346a2fc9d32c65d3ac88fee7c969994751bf253d82d5\n",
            "  Stored in directory: /root/.cache/pip/wheels/53/84/19/35bc977c8bf5f0c23a8a011aa958acd4da4bbd7a229315c1b7\n",
            "Successfully built PyPDF2\n",
            "Installing collected packages: PyPDF2\n",
            "Successfully installed PyPDF2-1.26.0\n"
          ],
          "name": "stdout"
        }
      ]
    },
    {
      "cell_type": "code",
      "metadata": {
        "id": "19TnzkT_Yb7E",
        "outputId": "dc48b59a-5fac-481c-b504-8dff75d65b2f",
        "colab": {
          "base_uri": "https://localhost:8080/",
          "height": 122
        }
      },
      "source": [
        "!pip install pdf2image"
      ],
      "execution_count": 2,
      "outputs": [
        {
          "output_type": "stream",
          "text": [
            "Collecting pdf2image\n",
            "  Downloading https://files.pythonhosted.org/packages/03/62/089030fd16ab3e5c245315d63c80b29250b8f9e4579b5a09306eb7e7539c/pdf2image-1.14.0-py3-none-any.whl\n",
            "Requirement already satisfied: pillow in /usr/local/lib/python3.6/dist-packages (from pdf2image) (7.0.0)\n",
            "Installing collected packages: pdf2image\n",
            "Successfully installed pdf2image-1.14.0\n"
          ],
          "name": "stdout"
        }
      ]
    },
    {
      "cell_type": "code",
      "metadata": {
        "id": "9MnF3Qaefmif",
        "outputId": "1947287a-9ded-4c93-e09d-0cad75415d30",
        "colab": {
          "base_uri": "https://localhost:8080/",
          "height": 309
        }
      },
      "source": [
        "!apt-get install poppler-utils \n"
      ],
      "execution_count": 3,
      "outputs": [
        {
          "output_type": "stream",
          "text": [
            "Reading package lists... Done\n",
            "Building dependency tree       \n",
            "Reading state information... Done\n",
            "The following NEW packages will be installed:\n",
            "  poppler-utils\n",
            "0 upgraded, 1 newly installed, 0 to remove and 21 not upgraded.\n",
            "Need to get 154 kB of archives.\n",
            "After this operation, 613 kB of additional disk space will be used.\n",
            "Get:1 http://archive.ubuntu.com/ubuntu bionic-updates/main amd64 poppler-utils amd64 0.62.0-2ubuntu2.10 [154 kB]\n",
            "Fetched 154 kB in 1s (181 kB/s)\n",
            "Selecting previously unselected package poppler-utils.\n",
            "(Reading database ... 144611 files and directories currently installed.)\n",
            "Preparing to unpack .../poppler-utils_0.62.0-2ubuntu2.10_amd64.deb ...\n",
            "Unpacking poppler-utils (0.62.0-2ubuntu2.10) ...\n",
            "Setting up poppler-utils (0.62.0-2ubuntu2.10) ...\n",
            "Processing triggers for man-db (2.8.3-2ubuntu0.1) ...\n"
          ],
          "name": "stdout"
        }
      ]
    },
    {
      "cell_type": "markdown",
      "metadata": {
        "id": "m7CkiPfpz3TT"
      },
      "source": [
        "# Convet"
      ]
    },
    {
      "cell_type": "code",
      "metadata": {
        "id": "T0vQYM01ZBmy"
      },
      "source": [
        "import tempfile\n",
        "from pdf2image import convert_from_path, convert_from_bytes\n",
        "\n",
        "count = 0\n",
        "pages = convert_from_path('/YourFile.pdf', 500)\n",
        "for page in pages:\n",
        "    page.save('NewDoc%s.png' %count, 'PNG')\n",
        "    count = count +1 "
      ],
      "execution_count": null,
      "outputs": []
    },
    {
      "cell_type": "markdown",
      "metadata": {
        "id": "PLziydIaicLx"
      },
      "source": [
        "# Download"
      ]
    },
    {
      "cell_type": "code",
      "metadata": {
        "id": "1XKm6i6AeARu",
        "outputId": "108d7176-f39a-4e16-8d65-e764a5aaee4e",
        "colab": {
          "base_uri": "https://localhost:8080/",
          "height": 394
        }
      },
      "source": [
        "! ls -l"
      ],
      "execution_count": 66,
      "outputs": [
        {
          "output_type": "stream",
          "text": [
            "total 713956\n",
            "drwxr-xr-x 2 root root      4096 Oct 19 10:24  1\n",
            "-rw-r--r-- 1 root root  24426287 Oct 19 10:49  images10.zip\n",
            "-rw-r--r-- 1 root root  20730046 Oct 19 10:50  images11.zip\n",
            "-rw-r--r-- 1 root root  20730186 Oct 19 10:24  images1.zip\n",
            "-rw-r--r-- 1 root root  64891954 Oct 19 10:27  images2.zip\n",
            "-rw-r--r-- 1 root root  29646014 Oct 19 10:31  images3.zip\n",
            "-rw-r--r-- 1 root root  32556961 Oct 19 10:36  images4.zip\n",
            "-rw-r--r-- 1 root root 142453259 Oct 19 10:38  images5.zip\n",
            "-rw-r--r-- 1 root root  28156508 Oct 19 10:40  images6.zip\n",
            "-rw-r--r-- 1 root root  13365252 Oct 19 10:44  images7.zip\n",
            "-rw-r--r-- 1 root root 129603292 Oct 19 10:46  images8.zip\n",
            "-rw-r--r-- 1 root root 158010109 Oct 19 10:47  images9.zip\n",
            "-rw-r--r-- 1 root root   3283433 Oct 19 12:06 'is losses i ddiulys Beguilwon portmolenmihertdulisie Dir Dilinlhsoben Disli  bbwlutidhurtu.pdf'\n",
            "-rw-r--r-- 1 root root  12219718 Oct 19 12:07  OUT_NorDoc0.png\n",
            "-rw-r--r-- 1 root root  14672288 Oct 19 12:07  OUT_NorDoc1.png\n",
            "-rw-r--r-- 1 root root  10633886 Oct 19 12:07  OUT_NorDoc2.png\n",
            "-rw-r--r-- 1 root root  13793304 Oct 19 12:07  OUT_NorDoc3.png\n",
            "-rw-r--r-- 1 root root  11863007 Oct 19 12:07  OUT_NorDoc4.png\n",
            "drwxr-xr-x 2 root root      4096 Oct 19 10:20  pdf\n",
            "drwxr-xr-x 1 root root      4096 Oct 14 16:31  sample_data\n"
          ],
          "name": "stdout"
        }
      ]
    },
    {
      "cell_type": "code",
      "metadata": {
        "id": "kZwOiX4Chp5F",
        "outputId": "278f3459-554d-476b-9e6d-a1f3bc4e2a76",
        "colab": {
          "base_uri": "https://localhost:8080/",
          "height": 102
        }
      },
      "source": [
        "! zip images_HR.zip *.png "
      ],
      "execution_count": 67,
      "outputs": [
        {
          "output_type": "stream",
          "text": [
            "  adding: OUT_NorDoc0.png (deflated 1%)\n",
            "  adding: OUT_NorDoc1.png (deflated 1%)\n",
            "  adding: OUT_NorDoc2.png (deflated 1%)\n",
            "  adding: OUT_NorDoc3.png (deflated 1%)\n",
            "  adding: OUT_NorDoc4.png (deflated 1%)\n"
          ],
          "name": "stdout"
        }
      ]
    },
    {
      "cell_type": "code",
      "metadata": {
        "id": "_Yeai1Guh_KV",
        "outputId": "a19cb6a9-ff85-47e9-c63d-ee89a1d69166",
        "colab": {
          "base_uri": "https://localhost:8080/",
          "height": 17
        }
      },
      "source": [
        "from google.colab import files\n",
        "files.download('/content/images.zip')"
      ],
      "execution_count": 68,
      "outputs": [
        {
          "output_type": "display_data",
          "data": {
            "application/javascript": [
              "\n",
              "    async function download(id, filename, size) {\n",
              "      if (!google.colab.kernel.accessAllowed) {\n",
              "        return;\n",
              "      }\n",
              "      const div = document.createElement('div');\n",
              "      const label = document.createElement('label');\n",
              "      label.textContent = `Downloading \"${filename}\": `;\n",
              "      div.appendChild(label);\n",
              "      const progress = document.createElement('progress');\n",
              "      progress.max = size;\n",
              "      div.appendChild(progress);\n",
              "      document.body.appendChild(div);\n",
              "\n",
              "      const buffers = [];\n",
              "      let downloaded = 0;\n",
              "\n",
              "      const channel = await google.colab.kernel.comms.open(id);\n",
              "      // Send a message to notify the kernel that we're ready.\n",
              "      channel.send({})\n",
              "\n",
              "      for await (const message of channel.messages) {\n",
              "        // Send a message to notify the kernel that we're ready.\n",
              "        channel.send({})\n",
              "        if (message.buffers) {\n",
              "          for (const buffer of message.buffers) {\n",
              "            buffers.push(buffer);\n",
              "            downloaded += buffer.byteLength;\n",
              "            progress.value = downloaded;\n",
              "          }\n",
              "        }\n",
              "      }\n",
              "      const blob = new Blob(buffers, {type: 'application/binary'});\n",
              "      const a = document.createElement('a');\n",
              "      a.href = window.URL.createObjectURL(blob);\n",
              "      a.download = filename;\n",
              "      div.appendChild(a);\n",
              "      a.click();\n",
              "      div.remove();\n",
              "    }\n",
              "  "
            ],
            "text/plain": [
              "<IPython.core.display.Javascript object>"
            ]
          },
          "metadata": {
            "tags": []
          }
        },
        {
          "output_type": "display_data",
          "data": {
            "application/javascript": [
              "download(\"download_c9e183c5-b33a-4dd8-8dd2-f7ec597eee57\", \"images_HR.zip\", 62604805)"
            ],
            "text/plain": [
              "<IPython.core.display.Javascript object>"
            ]
          },
          "metadata": {
            "tags": []
          }
        }
      ]
    },
    {
      "cell_type": "code",
      "metadata": {
        "id": "mUweHFpte0c_"
      },
      "source": [
        ""
      ],
      "execution_count": null,
      "outputs": []
    }
  ]
}